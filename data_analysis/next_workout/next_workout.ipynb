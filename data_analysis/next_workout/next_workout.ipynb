{
 "cells": [
  {
   "cell_type": "code",
   "execution_count": 2,
   "metadata": {},
   "outputs": [],
   "source": [
    "import pandas as pd\n",
    "import numpy as np"
   ]
  },
  {
   "cell_type": "code",
   "execution_count": null,
   "metadata": {},
   "outputs": [
    {
     "name": "stdout",
     "output_type": "stream",
     "text": [
      "20\n"
     ]
    }
   ],
   "source": [
    "# Define the rsratio DataFrame\n",
    "rsratio = pd.DataFrame({\n",
    "    \"Reps\": [20, 15, 12, 10, 8, 6],\n",
    "    \"Sets\": [3, 4, 4, 4, 5, 6]\n",
    "})\n",
    "\n",
    "def min_weight(w, r):\n",
    "    # Find the current sets 's' for the input reps 'r'\n",
    "    if r not in rsratio['Reps'].values:\n",
    "        raise ValueError(f\"Reps value {r} not found in rsratio.\")\n",
    "\n",
    "    s = rsratio.loc[rsratio['Reps'] == r, 'Sets'].values[0]\n",
    "    \n",
    "    # Calculate the current target weight x reps x sets\n",
    "    target = w * r * s\n",
    "\n",
    "    # Find the next reps and sets by going down one row\n",
    "    current_index = rsratio[rsratio['Reps'] == r].index[0]\n",
    "    if current_index + 1 >= len(rsratio):\n",
    "        raise ValueError(\"No lower reps/sets combination available.\")\n",
    "    \n",
    "    r_next = rsratio.loc[current_index + 1, 'Reps']\n",
    "    s_next = rsratio.loc[current_index + 1, 'Sets']\n",
    "\n",
    "    # Generate possible new weights\n",
    "    ws = np.arange(w, w + 20, 5)\n",
    "\n",
    "    # Find the minimum new weight that satisfies the condition\n",
    "    for new_w in ws:\n",
    "        if new_w * r_next * s_next >= target:\n",
    "            return new_w\n",
    "\n",
    "    raise ValueError(\"No suitable weight found in the generated range.\")\n"
   ]
  },
  {
   "cell_type": "code",
   "execution_count": 4,
   "metadata": {},
   "outputs": [
    {
     "data": {
      "text/plain": [
       "20"
      ]
     },
     "execution_count": 4,
     "metadata": {},
     "output_type": "execute_result"
    }
   ],
   "source": [
    "\n",
    "min_weight(20, 20)"
   ]
  }
 ],
 "metadata": {
  "kernelspec": {
   "display_name": "Workout_Analysis",
   "language": "python",
   "name": "python3"
  },
  "language_info": {
   "codemirror_mode": {
    "name": "ipython",
    "version": 3
   },
   "file_extension": ".py",
   "mimetype": "text/x-python",
   "name": "python",
   "nbconvert_exporter": "python",
   "pygments_lexer": "ipython3",
   "version": "3.11.9"
  }
 },
 "nbformat": 4,
 "nbformat_minor": 2
}
